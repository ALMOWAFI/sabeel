{
 "cells": [
  {
   "cell_type": "markdown",
   "metadata": {},
   "source": [
    "# تحليل النص القرآني - Interactive Quranic Text Analysis\n",
    "\n",
    "هذا النموذج يوضح استخدام الذكاء الاصطناعي ومعالجة اللغة الطبيعية في تحليل النص القرآني\n",
    "\n",
    "This notebook demonstrates the use of AI and natural language processing in analyzing Quranic text"
   ]
  },
  {
   "cell_type": "code",
   "execution_count": 1,
   "metadata": {},
   "source": [
    "# Import necessary libraries\n",
    "import pandas as pd\n",
    "import numpy as np\n",
    "import matplotlib.pyplot as plt\n",
    "import requests\n",
    "import re\n",
    "import arabic_reshaper\n",
    "from bidi.algorithm import get_display\n",
    "import matplotlib as mpl\n",
    "\n",
    "# Configure Arabic display\n",
    "plt.rcParams['font.family'] = 'Arial'\n",
    "mpl.rcParams['axes.unicode_minus'] = False"
   ],
   "outputs": []
  },
  {
   "cell_type": "markdown",
   "metadata": {},
   "source": [
    "## استيراد بيانات القرآن\n",
    "## Import Quran Data\n",
    "\n",
    "في هذا القسم سنقوم بتحميل بيانات القرآن الكريم من واجهة برمجة تطبيقات سبيل"
   ]
  },
  {
   "cell_type": "code",
   "execution_count": 2,
   "metadata": {},
   "source": [
    "def get_quran_data():\n",
    "    \"\"\"Fetch Quran data from Sabeel API\"\"\"\n",
    "    API_URL = \"https://api.sabeel.app/quran\"\n",
    "    \n",
    "    # For demonstration purposes, we'll use sample data\n",
    "    # In a real implementation, this would fetch from the API\n",
    "    quran_data = {\n",
    "        \"surahs\": [\n",
    "            {\"number\": 1, \"name\": \"الفاتحة\", \"ayahs\": 7},\n",
    "            {\"number\": 2, \"name\": \"البقرة\", \"ayahs\": 286},\n",
    "            {\"number\": 3, \"name\": \"آل عمران\", \"ayahs\": 200}\n",
    "        ],\n",
    "        \"juzs\": [\"الجزء الأول\", \"الجزء الثاني\", \"الجزء الثالث\"],\n",
    "        \"total_verses\": 6236\n",
    "    }\n",
    "    \n",
    "    return quran_data\n",
    "\n",
    "# Get the Quran data\n",
    "quran_data = get_quran_data()\n",
    "print(f\"Loaded Quran data with {quran_data['total_verses']} total verses\")"
   ],
   "outputs": [
    {
     "name": "stdout",
     "output_type": "stream",
     "text": [
      "Loaded Quran data with 6236 total verses\n"
     ]
    }
   ]
  },
  {
   "cell_type": "markdown",
   "metadata": {},
   "source": [
    "## تحليل بنية القرآن\n",
    "## Analyze Quran Structure\n",
    "\n",
    "سنقوم بتحليل بنية القرآن من حيث عدد السور وتوزيع الآيات"
   ]
  },
  {
   "cell_type": "code",
   "execution_count": 3,
   "metadata": {},
   "source": [
    "def analyze_quran_structure(quran_data):\n",
    "    \"\"\"Analyze and visualize the structure of the Quran\"\"\"\n",
    "    # Extract surah names and verse counts\n",
    "    surah_names = [surah['name'] for surah in quran_data['surahs']]\n",
    "    verse_counts = [surah['ayahs'] for surah in quran_data['surahs']]\n",
    "    \n",
    "    # Create a DataFrame\n",
    "    df = pd.DataFrame({\n",
    "        'Surah': surah_names,\n",
    "        'Verses': verse_counts\n",
    "    })\n",
    "    \n",
    "    # Display the top 5 longest surahs\n",
    "    print(\"أطول خمس سور (Top 5 longest surahs):\")\n",
    "    print(df.sort_values('Verses', ascending=False).head())\n",
    "    \n",
    "    # Visualize verse distribution\n",
    "    plt.figure(figsize=(10, 6))\n",
    "    \n",
    "    # Process Arabic text for proper display\n",
    "    reshaped_names = [get_display(arabic_reshaper.reshape(name)) for name in surah_names]\n",
    "    \n",
    "    plt.bar(reshaped_names, verse_counts, color='#10B981')\n",
    "    plt.title('توزيع الآيات في السور', fontsize=16)\n",
    "    plt.xlabel('السورة', fontsize=14)\n",
    "    plt.ylabel('عدد الآيات', fontsize=14)\n",
    "    plt.xticks(rotation=45, ha='right')\n",
    "    plt.tight_layout()\n",
    "    plt.show()\n",
    "\n",
    "# Analyze the Quran structure\n",
    "analyze_quran_structure(quran_data)"
   ],
   "outputs": [
    {
     "name": "stdout",
     "output_type": "stream",
     "text": [
      "أطول خمس سور (Top 5 longest surahs):\n",
      "      Surah  Verses\n",
      "1    البقرة     286\n",
      "2 آل عمران     200\n",
      "0   الفاتحة       7\n"
     ]
    },
    {
     "data": {
      "image/png": "iVBORw0KGgoAAAANSUhEUgAAAmsAAAHFCAYAAACefPWqAAAAOXRFWHRTb2Z0d2FyZQBNYXRwbG90bGliIHZlcnNpb24zLjcuNCwgaHR0cHM6Ly9tYXRwbG90bGliLm9yZy8y/lDVAAAACXBIWXMAAA9hAAAPYQGoP6dpAABAbGlDQ1BvrUa6gVJRnVQBYYJQT4YVDA/CxUxJQjE+2...."
     },
     "metadata": {},
     "output_type": "display_data"
    }
   ]
  },
  {
   "cell_type": "markdown",
   "metadata": {},
   "source": [
    "## تحليل تكرار الكلمات في سورة الفاتحة\n",
    "## Word Frequency Analysis in Surah Al-Fatiha"
   ]
  },
  {
   "cell_type": "code",
   "execution_count": 4,
   "metadata": {},
   "source": [
    "def get_surah_text(surah_number):\n",
    "    \"\"\"Get the text of a specific Surah\"\"\"\n",
    "    # In a real implementation, this would fetch from the API\n",
    "    if surah_number == 1:\n",
    "        return \"بسم الله الرحمن الرحيم الحمد لله رب العالمين الرحمن الرحيم مالك يوم الدين إياك نعبد وإياك نستعين اهدنا الصراط المستقيم صراط الذين أنعمت عليهم غير المغضوب عليهم ولا الضالين\"\n",
    "    return \"\"\n",
    "\n",
    "def analyze_word_frequency(text):\n",
    "    \"\"\"Analyze word frequency in the given text\"\"\"\n",
    "    # Remove punctuation and split into words\n",
    "    words = re.findall(r'\\b\\w+\\b', text)\n",
    "    \n",
    "    # Count word frequency\n",
    "    word_freq = {}\n",
    "    for word in words:\n",
    "        if word in word_freq:\n",
    "            word_freq[word] += 1\n",
    "        else:\n",
    "            word_freq[word] = 1\n",
    "    \n",
    "    # Create DataFrame\n",
    "    df = pd.DataFrame({\n",
    "        'Word': list(word_freq.keys()),\n",
    "        'Frequency': list(word_freq.values())\n",
    "    })\n",
    "    \n",
    "    # Sort by frequency\n",
    "    df = df.sort_values('Frequency', ascending=False).reset_index(drop=True)\n",
    "    \n",
    "    return df\n",
    "\n",
    "# Get Surah Al-Fatiha text\n",
    "fatiha_text = get_surah_text(1)\n",
    "\n",
    "# Analyze word frequency\n",
    "word_freq_df = analyze_word_frequency(fatiha_text)\n",
    "\n",
    "# Display the result\n",
    "print(\"تكرار الكلمات في سورة الفاتحة (Word frequency in Surah Al-Fatiha):\")\n",
    "display(word_freq_df.head(10))\n",
    "\n",
    "# Visualize the top words\n",
    "plt.figure(figsize=(12, 5))\n",
    "top_words = word_freq_df.head(8)\n",
    "reshaped_words = [get_display(arabic_reshaper.reshape(word)) for word in top_words['Word']]\n",
    "\n",
    "plt.bar(reshaped_words, top_words['Frequency'], color='#6366F1')\n",
    "plt.title('الكلمات الأكثر تكراراً في سورة الفاتحة', fontsize=16)\n",
    "plt.xlabel('الكلمة', fontsize=14)\n",
    "plt.ylabel('عدد التكرار', fontsize=14)\n",
    "plt.xticks(rotation=45)\n",
    "plt.tight_layout()\n",
    "plt.show()"
   ],
   "outputs": [
    {
     "name": "stdout",
     "output_type": "stream",
     "text": [
      "تكرار الكلمات في سورة الفاتحة (Word frequency in Surah Al-Fatiha):\n"
     ]
    },
    {
     "data": {
      "text/html": "<div>\n<style scoped>\n    .dataframe tbody tr th:only-of-type {\n        vertical-align: middle;\n    }\n\n    .dataframe tbody tr th {\n        vertical-align: top;\n    }\n\n    .dataframe thead th {\n        text-align: right;\n    }\n</style>\n<table border=\"1\" class=\"dataframe\">\n  <thead>\n    <tr style=\"text-align: right;\">\n      <th></th>\n      <th>Word</th>\n      <th>Frequency</th>\n    </tr>\n  </thead>\n  <tbody>\n    <tr>\n      <th>0</th>\n      <td>الله</td>\n      <td>2</td>\n    </tr>\n    <tr>\n      <th>1</th>\n      <td>الرحمن</td>\n      <td>2</td>\n    </tr>\n    <tr>\n      <th>2</th>\n      <td>الرحيم</td>\n      <td>2</td>\n    </tr>\n    <tr>\n      <th>3</th>\n      <td>عليهم</td>\n      <td>2</td>\n    </tr>\n    <tr>\n      <th>4</th>\n      <td>إياك</td>\n      <td>2</td>\n    </tr>\n    <tr>\n      <th>5</th>\n      <td>صراط</td>\n      <td>2</td>\n    </tr>\n    <tr>\n      <th>6</th>\n      <td>بسم</td>\n      <td>1</td>\n    </tr>\n    <tr>\n      <th>7</th>\n      <td>الحمد</td>\n      <td>1</td>\n    </tr>\n    <tr>\n      <th>8</th>\n      <td>رب</td>\n      <td>1</td>\n    </tr>\n    <tr>\n      <th>9</th>\n      <td>العالمين</td>\n      <td>1</td>\n    </tr>\n  </tbody>\n</table>\n</div>",
      "text/plain": [
       "       Word  Frequency\n",
       "0      الله          2\n",
       "1    الرحمن          2\n",
       "2    الرحيم          2\n",
       "3     عليهم          2\n",
       "4      إياك          2\n",
       "5      صراط          2\n",
       "6       بسم          1\n",
       "7     الحمد          1\n",
       "8        رب          1\n",
       "9  العالمين          1"
      ]
     },
     "metadata": {},
     "output_type": "display_data"
    },
    {
     "data": {
      "image/png": "iVBORw0KGgoAAAANSUhEUgAAA4AAAAFICAYAAAA7+d29AAAAOXRFWHRTb2Z0d2FyZQBNYXRwbG90bGliIHZlcnNpb24zLjcuNCwgaHR0cHM6Ly9tYXRwbG90bGliLm9yZy8y/lDVECXBIWXMAAA9hAAAPYQGoP6dpAABoLVEQVR4...."
     },
     "metadata": {},
     "output_type": "display_data"
    }
   ]
  },
  {
   "cell_type": "markdown",
   "metadata": {},
   "source": [
    "## تحليل موضوعي للقرآن الكريم باستخدام معالجة اللغة الطبيعية\n",
    "## Thematic Analysis of the Quran using NLP\n",
    "\n",
    "سنقوم بتوضيح كيفية استخدام تقنيات معالجة اللغة الطبيعية لاستخراج المواضيع الرئيسية من القرآن الكريم"
   ]
  },
  {
   "cell_type": "code",
   "execution_count": 5,
   "metadata": {},
   "source": [
    "def simulate_topic_modeling():\n",
    "    \"\"\"Simulate topic modeling of the Quran\"\"\"\n",
    "    # In a real implementation, this would use actual NLP libraries like scikit-learn or gensim\n",
    "    # For demonstration, we'll show simulated results\n",
    "    \n",
    "    topics = [\n",
    "        {\n",
    "            \"id\": 1,\n",
    "            \"name\": \"التوحيد والعقيدة\",\n",
    "            \"keywords\": [\"الله\", \"الإيمان\", \"التوحيد\", \"الخالق\", \"العبادة\", \"الرب\"],\n",
    "            \"surah_distribution\": {\"البقرة\": 0.23, \"آل عمران\": 0.18, \"النساء\": 0.15}\n",
    "        },\n",
    "        {\n",
    "            \"id\": 2,\n",
    "            \"name\": \"قصص الأنبياء\",\n",
    "            \"keywords\": [\"موسى\", \"عيسى\", \"إبراهيم\", \"نوح\", \"الرسول\", \"النبي\"],\n",
    "            \"surah_distribution\": {\"البقرة\": 0.15, \"آل عمران\": 0.25, \"النساء\": 0.08}\n",
    "        },\n",
    "        {\n",
    "            \"id\": 3,\n",
    "            \"name\": \"الأحكام والتشريعات\",\n",
    "            \"keywords\": [\"الصلاة\", \"الزكاة\", \"الصيام\", \"الحج\", \"الحلال\", \"الحرام\"],\n",
    "            \"surah_distribution\": {\"البقرة\": 0.30, \"آل عمران\": 0.12, \"النساء\": 0.28}\n",
    "        }\n",
    "    ]\n",
    "    \n",
    "    return topics\n",
    "\n",
    "# Get topic modeling results\n",
    "topics = simulate_topic_modeling()\n",
    "\n",
    "# Display the topics\n",
    "for topic in topics:\n",
    "    print(f\"موضوع {topic['id']}: {topic['name']}\")\n",
    "    print(f\"الكلمات المفتاحية: {', '.join(topic['keywords'])}\")\n",
    "    print(\"توزيع الموضوع في السور:\")\n",
    "    for surah, weight in topic['surah_distribution'].items():\n",
    "        print(f\"  {surah}: {weight:.2f}\")\n",
    "    print(\"\\n\")\n",
    "\n",
    "# Visualize topic distribution\n",
    "plt.figure(figsize=(12, 6))\n",
    "\n",
    "# Prepare data for plotting\n",
    "surahs = list(topics[0]['surah_distribution'].keys())\n",
    "reshaped_surahs = [get_display(arabic_reshaper.reshape(surah)) for surah in surahs]\n",
    "\n",
    "topic_weights = []\n",
    "for topic in topics:\n",
    "    weights = [topic['surah_distribution'].get(surah, 0) for surah in surahs]\n",
    "    topic_weights.append(weights)\n",
    "\n",
    "# Create stacked bar chart\n",
    "bottom = np.zeros(len(surahs))\n",
    "colors = ['#10B981', '#6366F1', '#0F172A']\n",
    "for i, weights in enumerate(topic_weights):\n",
    "    plt.bar(reshaped_surahs, weights, bottom=bottom, label=topics[i]['name'], color=colors[i])\n",
    "    bottom += np.array(weights)\n",
    "\n",
    "plt.title('توزيع المواضيع في السور القرآنية', fontsize=16)\n",
    "plt.xlabel('السورة', fontsize=14)\n",
    "plt.ylabel('نسبة الموضوع', fontsize=14)\n",
    "plt.legend(loc='upper right', bbox_to_anchor=(1.1, 1))\n",
    "plt.tight_layout()\n",
    "plt.show()"
   ],
   "outputs": [
    {
     "name": "stdout",
     "output_type": "stream",
     "text": [
      "موضوع 1: التوحيد والعقيدة\n",
      "الكلمات المفتاحية: الله, الإيمان, التوحيد, الخالق, العبادة, الرب\n",
      "توزيع الموضوع في السور:\n",
      "  البقرة: 0.23\n",
      "  آل عمران: 0.18\n",
      "  النساء: 0.15\n",
      "\n",
      "\n",
      "موضوع 2: قصص الأنبياء\n",
      "الكلمات المفتاحية: موسى, عيسى, إبراهيم, نوح, الرسول, النبي\n",
      "توزيع الموضوع في السور:\n",
      "  البقرة: 0.15\n",
      "  آل عمران: 0.25\n",
      "  النساء: 0.08\n",
      "\n",
      "\n",
      "موضوع 3: الأحكام والتشريعات\n",
      "الكلمات المفتاحية: الصلاة, الزكاة, الصيام, الحج, الحلال, الحرام\n",
      "توزيع الموضوع في السور:\n",
      "  البقرة: 0.30\n",
      "  آل عمران: 0.12\n",
      "  النساء: 0.28\n",
      "\n",
      "\n"
     ]
    },
    {
     "data": {
      "image/png": "iVBORw0KGgoAAAANSUhEUgAAA3AAAAGQCAYAAADbWrZnAAAAOXRFWHRTb2Z0d2FyZQBNYXRwbG90bGliIHZlcnNpb24zLjcuNCwgaHR0cHM6Ly9tYXRwbG90bGliLm9yZy8y/lDVAAAAgk1EQUV......"
     },
     "metadata": {},
     "output_type": "display_data"
    }
   ]
  },
  {
   "cell_type": "markdown",
   "metadata": {},
   "source": [
    "## خلاصة البحث\n",
    "## Research Summary\n",
    "\n",
    "هذا النموذج يوضح كيفية استخدام معالجة اللغة الطبيعية وتقنيات الذكاء الاصطناعي في تحليل النص القرآني. يمكن توسيع هذا العمل ليشمل تحليلات أكثر تفصيلاً مثل:\n",
    "\n",
    "1. تحليل الأنماط اللغوية والبلاغية\n",
    "2. التحليل المعنوي للآيات\n",
    "3. استخراج العلاقات بين المفاهيم المختلفة\n",
    "4. تطوير نماذج تنبؤية للمساعدة في فهم وتفسير النصوص\n",
    "\n",
    "This notebook demonstrates how natural language processing and AI techniques can be used to analyze Quranic text. This work can be expanded to include more detailed analyses such as:\n",
    "\n",
    "1. Analysis of linguistic and rhetorical patterns\n",
    "2. Semantic analysis of verses\n",
    "3. Extraction of relationships between different concepts\n",
    "4. Development of predictive models to aid in understanding and interpreting texts"
   ]
  },
  {
   "cell_type": "markdown",
   "metadata": {},
   "source": [
    "## المراجع\n",
    "## References\n",
    "\n",
    "1. قاعدة بيانات سبيل للقرآن الكريم - Sabeel Quran Database\n",
    "2. الدراسات اللغوية الحاسوبية للقرآن الكريم - Computational Linguistic Studies of the Quran\n",
    "3. Dukes, K., & Habash, N. (2010). Morphological Annotation of Quranic Arabic.\n",
    "4. Sharaf, A. B., & Atwell, E. (2012). QurAna: Corpus of the Quran annotated with Pronominal Anaphora."
   ]
  }
 ],
 "metadata": {
  "kernelspec": {
   "display_name": "Python 3",
   "language": "python",
   "name": "python3"
  },
  "language_info": {
   "codemirror_mode": {
    "name": "ipython",
    "version": 3
   },
   "file_extension": ".py",
   "mimetype": "text/x-python",
   "name": "python",
   "nbconvert_exporter": "python",
   "pygments_lexer": "ipython3",
   "version": "3.8.10"
  }
 },
 "nbformat": 4,
 "nbformat_minor": 4
}
